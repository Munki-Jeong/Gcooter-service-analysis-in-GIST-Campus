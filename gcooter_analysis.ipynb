{
 "cells": [
  {
   "cell_type": "code",
   "execution_count": 10,
   "metadata": {},
   "outputs": [],
   "source": [
    "# Reassigning numeric values to frequency categories for on-campus and off-campus usage of Gcooter\n",
    "import pandas as pd\n",
    "import matplotlib.pyplot as plt\n",
    "\n",
    "# Load the survey data\n",
    "file_path = 'survey_data.csv'\n",
    "survey_data = pd.read_csv(file_path)\n",
    "gcooter_users = survey_data[survey_data[\"학기 중, 지쿠터(전동킥보드, 전동자전거) 서비스를 한 번이라도 이용하십니까?\"] == \"네, 지쿠터 서비스를 이용합니다.\"]\n",
    "#survey_data[\"교외에서 지쿠터 서비스를 이용 시, 학부 기숙사를 기준으로 보통 어느 정도의 거리, 경로를 이용하십니까?\"].unique()"
   ]
  },
  {
   "cell_type": "code",
   "execution_count": 11,
   "metadata": {},
   "outputs": [
    {
     "name": "stdout",
     "output_type": "stream",
     "text": [
      "892.0625\n",
      "1456.25\n",
      "교내에서 지쿠터 서비스를 이용 시, 학부 기숙사를 기준으로 보통 어느 정도의 거리, 경로를 이용하십니까?\\n(해당 경로가 없다면, 가장 비슷한 거리의 경로를 선택해주시기 바랍니다.)\n",
      "학부 기숙사 ↔ 오룡관, 축구장, 또는 그 이상              6\n",
      "학부 기숙사 ↔ 신소재공학동, 지환공학동, 생명과학동, 행정동      6\n",
      "학부 기숙사 ↔ 전컴동 및 금호관                      2\n",
      "학부 기숙사 ↔ 제1 학생회관 및 카페, AI 대학원, 기계공학동    1\n",
      "학부 기숙사 ↔ 중앙 도서관, 다산 빌딩                  1\n",
      "Name: count, dtype: int64\n"
     ]
    }
   ],
   "source": [
    "# On-campus route distances in meters\n",
    "on_campus_distances = {\n",
    "    \"학부 기숙사 ↔ 대학 A, B, C동\": 315,\n",
    "    \"학부 기숙사 ↔ 중앙 도서관, 다산 빌딩\": 467,\n",
    "    \"학부 기숙사 ↔ 전컴동 및 금호관\": 680,\n",
    "    \"학부 기숙사 ↔ 신소재공학동, 지환공학동, 생명과학동, 행정동\": 736,\n",
    "    \"학부 기숙사 ↔ 제1 학생회관 및 카페, AI 대학원, 기계공학동\": 830,\n",
    "    \"학부 기숙사 ↔ 오룡관, 축구장, 또는 그 이상\": 1200\n",
    "}\n",
    "\n",
    "# Off-campus route distances in meters\n",
    "off_campus_distances = {\n",
    "    \"학부 기숙사 ↔ 쌍암 공원, 또는 그 이하\": 1100,\n",
    "    \"학부 기숙사 ↔ 투썸플레이스, 삼복당(이층면옥), 첨단공원국밥, 미케 PC방, 식당 해이리, 달빛에 구운 고등어\": 1100,\n",
    "    \"학부 기숙사 ↔ 다이소(쌍암점, 광주첨단점)\": 1100,\n",
    "    \"학부 기숙사 ↔ LC타워\": 2300,\n",
    "    \"학부 기숙사 ↔ 시너지, 아크레타, 보이저\": 2000,\n",
    "    \"학부 기숙사 ↔ 광주 비아 정류소, 또는 그 이상\": 2600\n",
    "}\n",
    "# Extracting the frequency distribution for on-campus and off-campus from the dataset\n",
    "on_campus_route_selections = gcooter_users.iloc[:, 6].value_counts()  # Column G\n",
    "off_campus_route_selections = gcooter_users.iloc[:, 7].value_counts() # Column H\n",
    "\n",
    "# Function to calculate weighted average distance\n",
    "def calculate_weighted_average_distance(route_selections, route_distances):\n",
    "\n",
    "    total_distance = 0\n",
    "    total_selections = 0\n",
    "    for route, frequency in route_selections.items():\n",
    "        total_distance += route_distances[route] * frequency\n",
    "        total_selections += frequency\n",
    "    return total_distance / total_selections if total_selections > 0 else 0\n",
    "\n",
    "# Calculating the weighted average distance for on-campus and off-campus\n",
    "average_on_campus_distance = calculate_weighted_average_distance(on_campus_route_selections, on_campus_distances)\n",
    "average_off_campus_distance = calculate_weighted_average_distance(off_campus_route_selections, off_campus_distances)\n",
    "\n",
    "print(average_on_campus_distance)\n",
    "print(average_off_campus_distance)\n",
    "print(on_campus_route_selections)"
   ]
  },
  {
   "cell_type": "code",
   "execution_count": 14,
   "metadata": {},
   "outputs": [],
   "source": [
    "# Filtering out responses from students who use Gcooter services\n",
    "gcooter_users = survey_data[survey_data[\"학기 중, 지쿠터(전동킥보드, 전동자전거) 서비스를 한 번이라도 이용하십니까?\"] == \"네, 지쿠터 서비스를 이용합니다.\"]\n",
    "\n",
    "# frequency_mapping_gcooter = {\n",
    "#     \"주 1~2회\": 1.5,  # Midpoint for 1-2 times a week\n",
    "#     \"주 3~5회\": 4,    # Midpoint for 3-5 times a week\n",
    "#     \"주 9회 이상\": 9,  # Using 9 as a representative number for more than 9 times a week\n",
    "#     \"주 0회 (교외 이동 시에만 지쿠터를 사용할 경우)\": 0,  # Zero for exclusive off-campus usage\n",
    "#     \"주 0회 (교내 이동 시에만 지쿠터를 사용할 경우)\": 0   # Zero for exclusive on-campus usage\n",
    "# }\n",
    "\n",
    "frequency_mapping_gcooter = {\n",
    "    \"주 1~2회\": 1,  # Midpoint for 1-2 times a week\n",
    "    \"주 3~5회\": 3,    # Midpoint for 3-5 times a week\n",
    "    \"주 9회 이상\": 9,  # Using 9 as a representative number for more than 9 times a week\n",
    "    \"주 0회 (교외 이동 시에만 지쿠터를 사용할 경우)\": 0,  # Zero for exclusive off-campus usage\n",
    "    \"주 0회 (교내 이동 시에만 지쿠터를 사용할 경우)\": 0   # Zero for exclusive on-campus usage\n",
    "}\n",
    "\n",
    "# Mapping frequency responses to numeric values for on-campus and off-campus usage of Gcooter\n",
    "on_campus_usage_mapped_gcooter = gcooter_users[\"학기 중, 지쿠터 서비스를 이용해 교내를 이동하는 횟수가 몇 번 입니까?\"].map(frequency_mapping_gcooter)\n",
    "off_campus_usage_mapped_gcooter = gcooter_users[\"학기 중, 지쿠터 서비스를 이용해 교외로 이동하는 횟수가 몇 번 입니까?\"].map(frequency_mapping_gcooter)\n",
    "\n",
    "# Calculating average number of trips per week for on-campus and off-campus usage of Gcooter\n",
    "average_on_campus_trips_per_week = on_campus_usage_mapped_gcooter.mean()\n",
    "average_off_campus_trips_per_week = off_campus_usage_mapped_gcooter.mean()\n",
    "\n",
    "# On-campus and off-campus average distances for Gcooter trips\n",
    "average_on_campus_distance = calculate_weighted_average_distance(on_campus_route_selections, on_campus_distances)    # Average on-campus distance per trip in meters\n",
    "average_off_campus_distance_gcooter = calculate_weighted_average_distance(off_campus_route_selections, off_campus_distances) # Average off-campus distance per trip in meters\n",
    "\n",
    "# Weekly average distances for Gcooter usage\n",
    "weekly_average_distance_on_campus_gcooter = average_on_campus_trips_per_week * average_on_campus_distance\n",
    "weekly_average_distance_off_campus_gcooter = average_off_campus_trips_per_week * average_off_campus_distance\n",
    "\n",
    "# Total weekly average distance for Gcooter usage\n",
    "total_weekly_average_distance_gcooter = weekly_average_distance_on_campus_gcooter + weekly_average_distance_off_campus_gcooter"
   ]
  },
  {
   "cell_type": "code",
   "execution_count": 15,
   "metadata": {},
   "outputs": [
    {
     "name": "stdout",
     "output_type": "stream",
     "text": [
      "3043.57421875\n",
      "2.1875\n",
      "0.75\n"
     ]
    }
   ],
   "source": [
    "print(total_weekly_average_distance_gcooter)\n",
    "print(average_on_campus_trips_per_week)\n",
    "print(average_off_campus_trips_per_week)"
   ]
  },
  {
   "cell_type": "code",
   "execution_count": 9,
   "metadata": {},
   "outputs": [
    {
     "data": {
      "image/png": "[encoded data removed]",
      "text/plain": [
       "<Figure size 640x480 with 1 Axes>"
      ]
     },
     "metadata": {},
     "output_type": "display_data"
    }
   ],
   "source": [
    "plt.bar(['On-Campus', 'Off-Campus'], [average_on_campus_trips_per_week, average_off_campus_trips_per_week])\n",
    "plt.xlabel('Trip Type')\n",
    "plt.ylabel('The number of use per Week, on average')\n",
    "plt.title('Average Number of Gcooter Trips per Week')\n",
    "plt.show()"
   ]
  },
  {
   "cell_type": "code",
   "execution_count": null,
   "metadata": {},
   "outputs": [],
   "source": []
  }
 ],
 "metadata": {
  "kernelspec": {
   "display_name": ".venv",
   "language": "python",
   "name": "python3"
  },
  "language_info": {
   "codemirror_mode": {
    "name": "ipython",
    "version": 3
   },
   "file_extension": ".py",
   "mimetype": "text/x-python",
   "name": "python",
   "nbconvert_exporter": "python",
   "pygments_lexer": "ipython3",
   "version": "3.9.6"
  }
 },
 "nbformat": 4,
 "nbformat_minor": 2
}
